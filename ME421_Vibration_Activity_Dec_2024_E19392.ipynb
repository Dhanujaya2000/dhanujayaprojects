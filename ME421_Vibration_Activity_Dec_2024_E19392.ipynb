{
  "nbformat": 4,
  "nbformat_minor": 0,
  "metadata": {
    "colab": {
      "provenance": [],
      "authorship_tag": "ABX9TyNlreDiPJKMJJ3wJzY2wOyt",
      "include_colab_link": true
    },
    "kernelspec": {
      "name": "python3",
      "display_name": "Python 3"
    },
    "language_info": {
      "name": "python"
    }
  },
  "cells": [
    {
      "cell_type": "markdown",
      "metadata": {
        "id": "view-in-github",
        "colab_type": "text"
      },
      "source": [
        "<a href=\"https://colab.research.google.com/github/Dhanujaya2000/dhanujayaprojects/blob/main/ME421_Vibration_Activity_Dec_2024_E19392.ipynb\" target=\"_parent\"><img src=\"https://colab.research.google.com/assets/colab-badge.svg\" alt=\"Open In Colab\"/></a>"
      ]
    },
    {
      "cell_type": "markdown",
      "source": [
        "$Activity$  $1$"
      ],
      "metadata": {
        "id": "V5IJU-Ex5vbo"
      }
    },
    {
      "cell_type": "markdown",
      "source": [
        "Derive the 1-dof freedom model for describing the small amplitude motion of the system."
      ],
      "metadata": {
        "id": "886DqBIUB9AJ"
      }
    },
    {
      "cell_type": "markdown",
      "source": [
        "$F = ma$"
      ],
      "metadata": {
        "id": "W22QwdiJA037"
      }
    },
    {
      "cell_type": "markdown",
      "source": [
        "\n",
        "$M\\ddot{x}+C\\dot{x}+Kx=F(t)$\\\n",
        "$M - Mass$\\\n",
        "$C - damping$ $coefficient$\\\n",
        "$K - Spring constant$\n"
      ],
      "metadata": {
        "id": "kCWpNZ1L5uff"
      }
    },
    {
      "cell_type": "markdown",
      "source": [
        "$Activity$  $2$"
      ],
      "metadata": {
        "id": "54Y7w9CNARL2"
      }
    },
    {
      "cell_type": "markdown",
      "source": [
        "Estimate the damped natural frequency, $\\omega_d$\n",
        ", and the amplitude of reseonance, $x_{ssmax}$\n",
        ", for small amplitude vibrations.\n",
        "\n",
        "\n"
      ],
      "metadata": {
        "id": "y6qd4giDB57W"
      }
    },
    {
      "cell_type": "markdown",
      "source": [
        "Measuring the displacement of the center of mass of the rotor from its equilibrium position and using the Newtons equations we find that\n",
        "\n",
        "$\n",
        "M\\ddot{x}+C\\dot{x}+Kx=F(t)\n",
        "$\n",
        "\n",
        "\n",
        "Let $\\omega^2_n=\\frac{K}{M}$ and $2 \\zeta \\omega_n=\\frac{C}{M}$. Then the above equations take the form\n",
        "\n",
        "$\n",
        "\\ddot{x}(t) + 2 \\zeta \\omega_n \\dot{x}(t) + \\omega^2_n x(t)= \\frac{1}{M}F(t).\n",
        "$\n",
        "take lasplace transformation\n",
        "$\n",
        "\\mathfrak{L}\\left\\{\\ddot{x}(t) + 2 \\zeta \\omega_n \\dot{x}(t) + \\omega^2_n x(t)\\right\\}=\\frac{1}{M}\\mathfrak{L}\\left\\{f(t)\\right\\},\\\\\n",
        "(s^2+2 \\zeta \\omega_n s + \\omega_n^2) X(s) - \\dot{x}(0)- ( s + 2\\zeta \\omega_n)x(0)  = \\frac{1}{M} F(s).\n",
        "$\n",
        "\n",
        "\\begin{align}\n",
        "X(s)=\\frac{1}{s^2+2 \\zeta \\omega_n s + \\omega_n^2} \\dot{x}(0)+\\frac{ s + 2\\zeta \\omega_n}{s^2+2 \\zeta \\omega_n s + \\omega_n^2}x(0)\n",
        "+\\frac{1/M}{s^2+2 \\zeta \\omega_n s + \\omega_n^2}F(s).\n",
        "\\end{align}\n",
        "Since the Laplace is a one-to-one and onto operator its inverse exists and thus the the solution can be uniquely determined to be $x(t)=\\mathfrak{L}^{-1}\\{X(s)\\}$. Using the linearity property of the inverse we thus have\n",
        "\n",
        "\n",
        "\\begin{align}\n",
        "x(t)&=\\dot{x}(0)\\mathfrak{L}^{-1}\\left\\{\\frac{1}{s^2+2 \\zeta \\omega_n s + \\omega_n^2} \\right\\}+x(0)\\mathfrak{L}^{-1}\\left\\{\\frac{ s + 2\\zeta \\omega_n}{s^2+2 \\zeta \\omega_n s + \\omega_n^2}\\right\\}+\\mathfrak{L}^{-1}\\left\\{\\frac{1/M}{s^2+2 \\zeta \\omega_n s + \\omega_n^2}F(s)\\right\\}.\n",
        "\\end{align}\n",
        "\n",
        "\n",
        "Observe that the first two terms depend on the initial conditions and do not depend on the forcing while the last term does depend on the forcing but is in depend of the initial conditions. Therefore\n",
        "we may breakup the solution into two parts such that $x(t)=x_{IC}(t)+x_f(t)$ where\n",
        "\\begin{align}\n",
        "x_{IC}(t)&=\\dot{x}(0)\\mathfrak{L}^{-1}\\left\\{\\frac{1}{s^2+2 \\zeta \\omega_n s + \\omega_n^2} \\right\\}+x(0)\\mathfrak{L}^{-1}\\left\\{\\frac{ s + 2\\zeta \\omega_n}{s^2+2 \\zeta \\omega_n s + \\omega_n^2}\\right\\}, \\\\\n",
        "x_f(t)&=\\mathfrak{L}^{-1}\\left\\{\\frac{1/M}{s^2+2 \\zeta \\omega_n s + \\omega_n^2}F(s)\\right\\}.\n",
        "\\end{align}\n",
        "We will call the first part two parts given by $x_{IC}(t)$ that depends only on the initial conditions the \\textit{initial condition response} while we will call the last part that depends only on the forcing the \\textit{forced response}.\n",
        "\n",
        "The inverse Laplace transforms of each of the terms are obtained by expanding the terms in a partial fraction expansion. This depends on the roots of the polynomial\n",
        "\\begin{align}\n",
        "\\Delta(s)&=s^2+2 \\zeta \\omega_n s + \\omega_n^2.\n",
        "\\end{align}\n",
        "The two roots , $-\\lambda_1$ and $-\\lambda_2$, of the polynomial are given by\n",
        "\\begin{align}\n",
        "-\\lambda_1&=\\omega_n (-\\zeta+\\sqrt{\\zeta^2-1}),\\\\\n",
        "-\\lambda_2&=\\omega_n (-\\zeta-\\sqrt{\\zeta^2-1}).\n",
        "\\end{align}\n",
        "Since the character of the solution is determined by the roots of the above polynomial it is referred to as the \\textit{characteristic polynomial} of the system. These roots will be complex and conjugate, real and distinct, or real and repeated depending on if $0\\leq \\zeta <1$, $\\zeta >1$, or $\\zeta=1$ respectively.\n",
        "\n",
        "Let us consider the case $0\\leq \\zeta <1$. In this case the roots of the characteristic polynomial $\\Delta(s)=s^2+2 \\zeta \\omega_n s + \\omega_n^2$ of the system\n",
        "are given by $-\\lambda_1=-\\zeta\\omega_n+i\\omega_d$ and $-\\lambda_2=-\\zeta\\omega_n-i\\omega_d$.\n",
        "A typical location of the roots of the characteristic polynomial in this case is shown in the figure below"
      ],
      "metadata": {
        "id": "S-1zdtYPCFAS"
      }
    }
  ]
}